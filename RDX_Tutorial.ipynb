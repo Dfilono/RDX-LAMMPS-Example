{
 "cells": [
  {
   "cell_type": "markdown",
   "metadata": {},
   "source": [
    "# Molecular Dynamics LAMMPS ReaxFF Tutorial\n",
    "\n",
    "## What is LAMMPS?\n",
    "Large-scale Atomic/Molecular MAssively Parrallel Simulatior (LAMMPS) is a classical molecular dynamics program developed by Sandia National Labs.\n",
    "\n",
    "## What is ReaxFF?\n",
    "ReaxFF is a reactive forcefield for moelcular dynamics. Traditional classical forcefields are unable to model chemical reactions due to need to form and break bonds. In a traditional forcefield, all bonds have to be defined explicitly before the start of the simulation. With ReaxFF however, bond orders are used to calculate when bonds are forming and breaking. ReaxFF also aims to be a as general as possible, making it a very complex forcefield with many system dependent parameters.\n",
    "\n",
    "## The Model\n",
    "Today, you will be using LAMMPS to model the thermal decomposition of RDX and HMX. Over the course of this tutorial, you will be watch the difference of heating RDX with a reactive forcefield (ReaxFF) and a tradtional forcefield (GAFF2) to view the differing behavior between them.\n",
    "\n",
    "## What you Will Need\n",
    "1. Access to the CRC clusters\n",
    "2. VMD with the Topo Tools plugin (this normally comes with the current VMD installer)\n",
    "3. Access to a text editor to make the input files\n",
    "4. All files provided with this tutorial"
   ]
  },
  {
   "cell_type": "markdown",
   "metadata": {},
   "source": [
    "## LAMMPS Input Files\n",
    "For most LAMMPS jobs, only a few files are needed. The in. files that runs commands, and where things such as temperature range, pressure range, bond definitions, ect. The data. file is LAMMPS version of the structure file. Other than that all that is needed is a .slurm file to submit the job to the cluster. In this tutorial, we will develop the in. file and the data. file.\n",
    "\n",
    "### The data. file:\n",
    "Using the .pdb file provided, we will use VMD and Topo Tools to generate the .data file for LAMMPS.\n",
    "1. Open VMD\n",
    "2. On the VMD Main Window, click File --> New Molecule\n",
    "3. On the window that opens, first click Browse and find the .pdb file. The file type should automatically be determined. Click Load\n",
    "4. If you've done this correctly, you should be able to see the molecule made of lines in the Display window\n",
    "5. Go to the command window that opens with the program, and type \"topo\" onto the first line\n",
    "6. Next, type topo writelammpsdata RDX.data charge\n",
    "\n",
    "This should generate a file titled RDX.data with the atom type \"charge,\" which allows the simulation to calculate bonding. For the GAFF2 simulation, you will do this same process, but replace the \"charge\" with \"full\" which includse the charges in the atoms, and bonds must be defined explicitly.\n",
    "\n",
    "NOTE: Open your RDX.data file in a text editor and change the lines 12, 13, and 14 to 0.0 50.0 or atoms may be lost in the simulation as seen below:"
   ]
  },
  {
   "cell_type": "raw",
   "metadata": {},
   "source": [
    " 0.0 50.0  xlo xhi\n",
    " 0.0 50.0  ylo yhi\n",
    " 0.0 50.0  zlo zhi"
   ]
  },
  {
   "cell_type": "markdown",
   "metadata": {},
   "source": [
    "### The in. file\n",
    "1. Open a blank .txt file, and rename it to in.reax.rdx\n",
    "2. Copy down the following, I will explain each line"
   ]
  },
  {
   "cell_type": "raw",
   "metadata": {},
   "source": [
    "# REAX potential for high energy CHON systems\n",
    "# .....\n",
    "\n",
    "units\t\treal\n",
    "\n",
    "atom_style\tcharge\n",
    "read_data\tRDX.data\n",
    "\n",
    "pair_style\treax/c lmp_control\n",
    "pair_coeff\t* * ffield.reax.rdx C H N O\n",
    "\n",
    "neighbor\t2.5 bin\n",
    "neigh_modify\tevery 10 delay 0 check no\n",
    "\n",
    "fix\t\t1 all nve\n",
    "fix             2 all qeq/reax 1 0.0 10.0 1e-6 param.qeq\n",
    "fix             3 all temp/berendsen 10.0 10.0 100.0\n",
    "run\t\t1000000\n",
    "\n",
    "unfix 1\n",
    "unfix 2\n",
    "unfix 3\n",
    "\n",
    "fix             1 all nvt temp 100 2000 2 drag 0.2\n",
    "fix             2 all qeq/reax 1 0.0 10.0 1e-6 param.qeq\n",
    "\n",
    "timestep\t0.01\n",
    "\n",
    "dump\t\t1 all atom 10000 dump.reax.rdx\n",
    "\n",
    "thermo_style custom step pe ke etotal temp vol press\n",
    "thermo 10000\n",
    "\n",
    "run\t\t10000000"
   ]
  },
  {
   "cell_type": "markdown",
   "metadata": {},
   "source": [
    "The first two lines titles and formatting for the file. The next is units, we want real units for this simulation for simplicity. For an example of how this command affects the units, please see: https://lammps.sandia.gov/doc/units.html\n",
    "\n",
    "The next line simply reads your data. file. before running your jpb, make sure your data. file has the same name as on this line. The next two lines are loading the forcefield and parameter files. These files are specific to this system, so they are provided. The next two lines define the nearest neighborts, when the simulation should check if atoms are neighbors, and the distance cutoff that defines a \"neighbor.\" The next set of lines is equilibrating the iniitial energy and pressure of the system using more parameter files specific to this system. We are equilibrating the structure at a very low temperature, where we know the strcture will be in tact. After this, we unfix all these definitions and redifine them. The second set of \"fix\" lines is the heating simulation, heating from the temperature we equilibrated the system at to a very high temperature well above the point of thermal decomposition. We then define the timestep, and the data that is tracked and in what intervals in the thermo_style and thermo commands. The dump command on the other hand tracks the positions and trajectories of each atom each step and saves the frames at each number of steps as we define. This will be how you view the movie of the molecule exploding.\n",
    "\n",
    "### The .slurm file\n",
    "The final file is how you submit to the crc. I have posted an example file below."
   ]
  },
  {
   "cell_type": "raw",
   "metadata": {},
   "source": [
    "#!/usr/bin/env bash\n",
    "#SBATCH --job-name=RDX_Example   # The job name in crc-squeue.py\n",
    "#SBATCH --output=melt.out # Standard out and error\n",
    "                               # will be written to this file\n",
    "#SBATCH --time=1:00:00         # How long should this job run?\n",
    "                               # Format: [days-]hours:minutes:seconds\n",
    "#SBATCH --nodes=1              # Number of nodes needed\n",
    "#SBATCH --ntasks-per-node=1   # Number of MPI tasks per node\n",
    "                               # pro tip: If you don't know what\n",
    "                               # this means, leave it at 1\n",
    "#SBATCH --cluster=smp    # Cluster you need: smp, mpi, gpu, htc\n",
    "                               # Exclude this to get default cluster\n",
    "                               # H2P - smp\n",
    "                               # HTC - htc\n",
    "#SBATCH --account=\n",
    "#SBATCH --mail-user=dof13@pitt.edu    # Optional, send yourself an email if\n",
    "                               # your job ends or fails\n",
    "#SBATCH --mail-type=END,FAIL   # Pair with --mail-user\n",
    "\n",
    "module purge\n",
    "module load intel/2018.2.199\n",
    "module load intel-mpi/2018.2.199\n",
    "module load lammps/16Mar18\n",
    "\n",
    "mpirun -np $SLURM_NTASKS lmp_mpi -in in.reax.rdx >& output"
   ]
  },
  {
   "cell_type": "markdown",
   "metadata": {},
   "source": [
    "Any other files you need to run this simulation have been provided for you with the tutorial.\n",
    "\n",
    "## Viewing the Movie\n",
    "To watch the molecule explode, follow these steps:\n",
    "1. Open VMD again\n",
    "2. On the VMD Main Window, click File --> New Molecule\n",
    "3. On the window that opens, first click Browse and find the .pdb file. The file type will need to be found manually, so scroll down until you find \"LAMMPS Trajectory\" then click Load\n",
    "4. The molecule should be in the Display window now, but we want to see it better, so click Graphics --> Representations\n",
    "5. On this screen, one representation should already be loaded. In the drawing method drop box, find VDW, and change the sphere size to your liking, and increase the resolution to ~70\n",
    "6. Then click \"Create Rep\"\n",
    "7. In the new Representation, go to drawing method and click \"Dynamic Bonds\" change the distance cutoff so it is reasonable, and change the bond radius as you like. Increase the resolution to ~70 again\n",
    "8. On the main window, you should be able to fast forward and rewind the simulation using the scroll bar at the bottom, as well as speed up and slow down the simulation\n",
    "\n",
    "During the movie, you should see the RDX molecule explode\n",
    "\n",
    "## The Traditional Forcefield Simulation\n",
    "We already discussed how to create the data. file for this simulation. As for the in. file, it is provided below. Traditional forcefields like GAFF2 require the user to atom type each specific pair, bonds, and ect, which is beyond the scope of this tutorial. You can repeat the steps above with these new files, and should see that the molecule does not react the same under the traditional forecfield rather than ReaxFF. Other issues, such as bonds being incorrect and the structure looking odd at the start of the simulation us also a commnon side effect of using the incorrect type of forcefield."
   ]
  },
  {
   "cell_type": "raw",
   "metadata": {},
   "source": [
    "# REAX potential for high energy CHON systems\n",
    "# .....\n",
    "\n",
    "units\t\treal\n",
    "\n",
    "atom_style\tfull\n",
    "read_data\tRDX.data\n",
    "\n",
    "pair_style\tlj/cut 8.5\n",
    "pair_coeff\t1 1 0.1078 3.39770953124\n",
    "pair_coeff\t2 2 0.0208 2.60017699876\n",
    "pair_coeff\t3 3 0.2150 3.18995195017\n",
    "pair_coeff\t4 4 0.1463 3.04812087425\n",
    "pair_modify     mix geometric\n",
    "\n",
    "bond_style harmonic\n",
    "bond_coeff 1 378.57 1.398\n",
    "\n",
    "neighbor\t2.5 bin\n",
    "neigh_modify\tevery 10 delay 0 check no\n",
    "\n",
    "fix\t\t1 all nve\n",
    "fix             2 all temp/berendsen 10.0 10.0 100.0\n",
    "run\t\t100000\n",
    "\n",
    "unfix 1\n",
    "unfix 2\n",
    "\n",
    "fix          1 all nvt temp 100 1000 2 drag 0.2\n",
    "\n",
    "timestep\t0.01\n",
    "\n",
    "dump\t\t1 all atom 10000 dump.reax.rdx\n",
    "\n",
    "thermo_style custom step pe ke etotal temp vol press\n",
    "thermo 10000\n",
    "\n",
    "run\t\t1000000"
   ]
  },
  {
   "cell_type": "markdown",
   "metadata": {},
   "source": [
    "The major differences between this input file and the previous one is the bond definitions, next to the pair_coeff tags. We are also now using atom style full rather than the charge style needed to model the bonds breaking and forming. We also remove the parameter dependent potions of the NVT and NVE equilibrations."
   ]
  },
  {
   "cell_type": "markdown",
   "metadata": {},
   "source": [
    "## Data Analysis\n",
    "Below is a Python script to read LAMMPS log output file. The script reads the file, and grabs all the thermodynamic quantities we tracked during the simulation, then transforming them into arrays. From there, you can plot the data to see the point at which the RDX explodes. Let's compare the Potenetial Energy vs Temperature plots for both the reactive and non-reactive forcefields."
   ]
  },
  {
   "cell_type": "code",
   "execution_count": 2,
   "metadata": {},
   "outputs": [
    {
     "name": "stderr",
     "output_type": "stream",
     "text": [
      "/ihome/crc/install/python/miniconda3-3.7/lib/python3.7/site-packages/ipykernel_launcher.py:5: ParserWarning: Falling back to the 'python' engine because the 'c' engine does not support skipfooter; you can avoid this warning by specifying engine='python'.\n",
      "  \"\"\"\n",
      "/ihome/crc/install/python/miniconda3-3.7/lib/python3.7/site-packages/ipykernel_launcher.py:6: ParserWarning: Falling back to the 'python' engine because the 'c' engine does not support skipfooter; you can avoid this warning by specifying engine='python'.\n",
      "  \n"
     ]
    },
    {
     "data": {
      "image/png": "[encoded data removed]",
      "text/plain": [
       "<Figure size 432x288 with 1 Axes>"
      ]
     },
     "metadata": {
      "needs_background": "light"
     },
     "output_type": "display_data"
    }
   ],
   "source": [
    "import pandas as pd\n",
    "import numpy as np\n",
    "import matplotlib.pyplot as plt\n",
    "\n",
    "ReaxFF = pd.read_csv(\"reax/log.lammps\",delim_whitespace = True,skiprows=108,skipfooter=30,names=[\"Step\",\"PotEng\",\"KinEng\",\"TotEng\",\"Temp\",\"Volume\",\"Press\"])\n",
    "GAFF = pd.read_csv(\"GAFF/log.lammps\",delim_whitespace = True,skiprows=108,skipfooter=30,names=[\"Step\",\"PotEng\",\"KinEng\",\"TotEng\",\"Temp\",\"Volume\",\"Press\"])\n",
    "\n",
    "ReaxT = np.array(ReaxFF[\"Temp\"])\n",
    "ReaxP = np.array(ReaxFF[\"PotEng\"])\n",
    "GAFFT = np.array(GAFF[\"Temp\"])\n",
    "GAFFP = np.array(GAFF[\"PotEng\"])\n",
    "\n",
    "plt.scatter(ReaxT,ReaxP);\n",
    "plt.xlabel(\"Temperature [K]\");\n",
    "plt.ylabel(\"PotEng [kCal/mol]\");"
   ]
  },
  {
   "cell_type": "code",
   "execution_count": 3,
   "metadata": {},
   "outputs": [
    {
     "data": {
      "image/png": "[encoded data removed]",
      "text/plain": [
       "<Figure size 432x288 with 1 Axes>"
      ]
     },
     "metadata": {
      "needs_background": "light"
     },
     "output_type": "display_data"
    }
   ],
   "source": [
    "plt.scatter(GAFFT,GAFFP);\n",
    "plt.xlabel(\"Temperature [K]\");\n",
    "plt.ylabel(\"PotEng [kCal/mol]\");"
   ]
  },
  {
   "cell_type": "markdown",
   "metadata": {},
   "source": []
  }
 ],
 "metadata": {
  "kernelspec": {
   "display_name": "Python 3.7",
   "language": "python",
   "name": "python3"
  },
  "language_info": {
   "codemirror_mode": {
    "name": "ipython",
    "version": 3
   },
   "file_extension": ".py",
   "mimetype": "text/x-python",
   "name": "python",
   "nbconvert_exporter": "python",
   "pygments_lexer": "ipython3",
   "version": "3.7.0"
  }
 },
 "nbformat": 4,
 "nbformat_minor": 4
}
